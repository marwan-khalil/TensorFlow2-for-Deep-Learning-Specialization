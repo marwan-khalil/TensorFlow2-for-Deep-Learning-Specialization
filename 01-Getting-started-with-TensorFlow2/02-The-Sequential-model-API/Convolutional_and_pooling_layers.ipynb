{
 "cells": [
  {
   "cell_type": "code",
   "execution_count": 1,
   "metadata": {},
   "outputs": [
    {
     "name": "stdout",
     "output_type": "stream",
     "text": [
      "2.0.0\n"
     ]
    }
   ],
   "source": [
    "import tensorflow as tf\n",
    "print(tf.__version__)"
   ]
  },
  {
   "cell_type": "markdown",
   "metadata": {},
   "source": [
    "# The Sequential model API"
   ]
  },
  {
   "cell_type": "markdown",
   "metadata": {},
   "source": [
    " ## Coding tutorials\n",
    " #### [1. Building a Sequential model](#coding_tutorial_1)\n",
    " #### [2. Convolutional and pooling layers](#coding_tutorial_2)\n",
    " #### [3. The compile method](#coding_tutorial_3)\n",
    " #### [4. The fit method](#coding_tutorial_4)\n",
    " #### [5. The evaluate and predict methods](#coding_tutorial_5)"
   ]
  },
  {
   "cell_type": "markdown",
   "metadata": {},
   "source": [
    "***\n",
    "<a id=\"coding_tutorial_1\"></a>\n",
    "## Building a Sequential model"
   ]
  },
  {
   "cell_type": "code",
   "execution_count": 2,
   "metadata": {},
   "outputs": [],
   "source": [
    "from tensorflow.keras.models import Sequential\n",
    "from tensorflow.keras.layers import Dense, Flatten, Softmax"
   ]
  },
  {
   "cell_type": "markdown",
   "metadata": {},
   "source": [
    "#### Build a feedforward neural network model"
   ]
  },
  {
   "cell_type": "code",
   "execution_count": 3,
   "metadata": {},
   "outputs": [],
   "source": [
    "# Build the Sequential feedforward neural network model\n",
    "\n",
    "model = Sequential([\n",
    "    Flatten(input_shape=(28, 28)),\n",
    "    Dense(16, activation='relu'),\n",
    "    Dense(16, activation='relu'),\n",
    "    Dense(10, activation='softmax')\n",
    "])"
   ]
  },
  {
   "cell_type": "code",
   "execution_count": 4,
   "metadata": {},
   "outputs": [
    {
     "data": {
      "text/plain": [
       "[<tf.Variable 'dense/kernel:0' shape=(784, 16) dtype=float32, numpy=\n",
       " array([[-0.06880821, -0.07112741,  0.02604344, ..., -0.00353029,\n",
       "          0.04801343, -0.08017866],\n",
       "        [ 0.0086031 , -0.07021489, -0.05574286, ...,  0.07810774,\n",
       "         -0.04479416,  0.05128036],\n",
       "        [-0.03158622, -0.06911061, -0.06952718, ...,  0.00062943,\n",
       "         -0.07457377, -0.05010292],\n",
       "        ...,\n",
       "        [-0.01583601, -0.01525883, -0.00538158, ...,  0.05445828,\n",
       "         -0.02727691,  0.07241069],\n",
       "        [-0.08579897,  0.00643065,  0.02034252, ...,  0.04972436,\n",
       "          0.03996494,  0.01652554],\n",
       "        [-0.03374128, -0.00377142, -0.02693877, ..., -0.06273451,\n",
       "         -0.07754827, -0.01121257]], dtype=float32)>,\n",
       " <tf.Variable 'dense/bias:0' shape=(16,) dtype=float32, numpy=\n",
       " array([0., 0., 0., 0., 0., 0., 0., 0., 0., 0., 0., 0., 0., 0., 0., 0.],\n",
       "       dtype=float32)>,\n",
       " <tf.Variable 'dense_1/kernel:0' shape=(16, 16) dtype=float32, numpy=\n",
       " array([[-0.16473669,  0.15491834, -0.20374249,  0.32606587,  0.33820054,\n",
       "          0.13524774,  0.10242859,  0.24255273,  0.22991171,  0.07297489,\n",
       "          0.28300312, -0.2743432 ,  0.01661485, -0.4075622 , -0.2768585 ,\n",
       "          0.3845245 ],\n",
       "        [ 0.10319945,  0.22276208,  0.2624292 , -0.23201336,  0.16737637,\n",
       "         -0.1532954 , -0.3711419 ,  0.11151996,  0.40808228, -0.28467828,\n",
       "         -0.17712754, -0.08983132, -0.366933  ,  0.15596434, -0.13925728,\n",
       "          0.23324189],\n",
       "        [-0.32051757, -0.03744566, -0.1942396 ,  0.04467586, -0.07028708,\n",
       "         -0.22624925,  0.29738858,  0.42689922,  0.3388287 , -0.34634727,\n",
       "         -0.05103874,  0.22126612,  0.3273057 ,  0.38393548, -0.06793234,\n",
       "         -0.02495134],\n",
       "        [ 0.41031626,  0.27714643, -0.14527038, -0.25126502, -0.34288508,\n",
       "         -0.40879154,  0.03933811, -0.22139096,  0.21061662,  0.36263928,\n",
       "          0.09783778, -0.31306654,  0.3210474 ,  0.20852026,  0.0620904 ,\n",
       "          0.2917364 ],\n",
       "        [ 0.33172914,  0.13308582,  0.23696128, -0.03622806, -0.3138715 ,\n",
       "         -0.21014966, -0.2532056 ,  0.14226267, -0.34767666,  0.2273955 ,\n",
       "         -0.0837667 , -0.16883186, -0.42060015, -0.12263787,  0.123027  ,\n",
       "          0.10425952],\n",
       "        [ 0.00877196,  0.0408358 , -0.23993978, -0.40805537, -0.1610451 ,\n",
       "         -0.40310457,  0.32872912, -0.15354338, -0.16953355,  0.05553827,\n",
       "         -0.0489819 ,  0.11440399, -0.36993566, -0.40939385,  0.42336056,\n",
       "          0.08395365],\n",
       "        [-0.4107027 , -0.28802526,  0.11524346,  0.08816901,  0.09850571,\n",
       "         -0.37443438,  0.23867819,  0.0276275 , -0.23120531, -0.24152882,\n",
       "          0.27818862,  0.3843628 ,  0.19300446, -0.17085934,  0.11200783,\n",
       "          0.37558475],\n",
       "        [ 0.1134738 , -0.2392516 , -0.015708  , -0.2631945 , -0.06330487,\n",
       "          0.384841  , -0.14475358, -0.09645355, -0.26606825,  0.17246303,\n",
       "          0.26099935, -0.2363344 ,  0.13977513, -0.16580695,  0.42769012,\n",
       "          0.03772408],\n",
       "        [-0.2510668 , -0.25353926,  0.3708432 , -0.43216294, -0.24908309,\n",
       "          0.1872448 , -0.26350537,  0.16719005,  0.36106893, -0.36963308,\n",
       "         -0.07878897, -0.27645218,  0.05013984,  0.19355646,  0.25124952,\n",
       "         -0.23170705],\n",
       "        [-0.20850104, -0.3637968 ,  0.40331778,  0.3791544 ,  0.4274625 ,\n",
       "          0.13394311,  0.12454614, -0.2636909 , -0.345829  ,  0.40013036,\n",
       "         -0.330982  ,  0.04798535, -0.01107696,  0.4133713 ,  0.21456245,\n",
       "          0.2203106 ],\n",
       "        [ 0.369455  ,  0.02653956, -0.3430809 ,  0.11771849, -0.13428605,\n",
       "          0.27398655, -0.02671826,  0.0310961 ,  0.14704826, -0.13253966,\n",
       "         -0.2304495 ,  0.07881531, -0.23841888, -0.18865256,  0.07009909,\n",
       "          0.3763868 ],\n",
       "        [-0.21912168, -0.0085344 ,  0.41814205,  0.0484328 ,  0.31394294,\n",
       "         -0.17805392,  0.22215185,  0.19709125, -0.1000734 ,  0.01503149,\n",
       "         -0.36676592,  0.28997967, -0.10506013, -0.16187936,  0.31620345,\n",
       "         -0.20273034],\n",
       "        [-0.19470635, -0.10275409, -0.23961066, -0.22012226, -0.05821183,\n",
       "          0.20142063, -0.42396715, -0.29117632, -0.09221706, -0.07715565,\n",
       "          0.3188574 ,  0.36956647,  0.20923814, -0.19453983,  0.20180264,\n",
       "          0.40540567],\n",
       "        [ 0.32902226, -0.2536989 ,  0.27056786, -0.24862254,  0.4090676 ,\n",
       "         -0.02423003,  0.10258093, -0.3378274 ,  0.1529254 ,  0.0588426 ,\n",
       "          0.05522639,  0.25554404, -0.20398034, -0.05836082, -0.30926263,\n",
       "         -0.37873104],\n",
       "        [-0.30968064,  0.42221048,  0.00539792,  0.41321436,  0.15020713,\n",
       "          0.3676704 ,  0.33146682,  0.3593053 , -0.03267947, -0.40340498,\n",
       "          0.18342188,  0.08838788, -0.38717324,  0.0614751 , -0.00134456,\n",
       "         -0.42749575],\n",
       "        [ 0.2879748 ,  0.15559968,  0.36256322, -0.37374318,  0.12493804,\n",
       "          0.16422424, -0.39100206, -0.2193934 ,  0.24644843, -0.26652592,\n",
       "         -0.40072823,  0.25104925,  0.09361121,  0.41342703,  0.36702177,\n",
       "          0.06527561]], dtype=float32)>,\n",
       " <tf.Variable 'dense_1/bias:0' shape=(16,) dtype=float32, numpy=\n",
       " array([0., 0., 0., 0., 0., 0., 0., 0., 0., 0., 0., 0., 0., 0., 0., 0.],\n",
       "       dtype=float32)>,\n",
       " <tf.Variable 'dense_2/kernel:0' shape=(16, 10) dtype=float32, numpy=\n",
       " array([[ 0.2730828 , -0.28618738, -0.02596694,  0.08848053, -0.402726  ,\n",
       "         -0.37905613,  0.01573265, -0.46737814,  0.37884575,  0.02047616],\n",
       "        [ 0.09086603,  0.08456248, -0.2810253 , -0.0901013 ,  0.1871875 ,\n",
       "         -0.3733958 , -0.13664678, -0.08350411, -0.03004807, -0.1830501 ],\n",
       "        [ 0.11933255, -0.34598964,  0.02740592,  0.00111222, -0.34967038,\n",
       "         -0.13094291,  0.09569001,  0.0811168 , -0.39267302, -0.2159788 ],\n",
       "        [ 0.39311534, -0.36912376, -0.13438863,  0.03185666, -0.23980477,\n",
       "          0.0063979 ,  0.04223627, -0.26157707,  0.05796403, -0.06137171],\n",
       "        [-0.08155042, -0.15020534,  0.41176546, -0.43777755,  0.29511142,\n",
       "         -0.092848  ,  0.45453376, -0.37320682, -0.11644939,  0.4358083 ],\n",
       "        [ 0.3572995 , -0.43008953,  0.12246615,  0.12880343, -0.27610266,\n",
       "          0.43959427, -0.2131882 ,  0.27936375, -0.01986533, -0.05614308],\n",
       "        [-0.44147867,  0.22119206, -0.22148746,  0.04787701, -0.436867  ,\n",
       "          0.31600755,  0.32867014, -0.02883276, -0.08175027, -0.25685972],\n",
       "        [-0.397723  ,  0.3189817 , -0.35601857,  0.31057537,  0.23517501,\n",
       "         -0.39406252, -0.46136084,  0.40663797, -0.3627815 ,  0.05148208],\n",
       "        [-0.41631484, -0.4441734 ,  0.14639807,  0.11624336, -0.13354957,\n",
       "         -0.01548812,  0.13304836,  0.19565922, -0.24767293, -0.1414507 ],\n",
       "        [ 0.04088986,  0.02821386,  0.4390933 , -0.0152089 , -0.24995911,\n",
       "          0.12967205, -0.06444681, -0.16947582, -0.19243947, -0.18852797],\n",
       "        [ 0.01766756, -0.0211229 , -0.12897858,  0.46375287, -0.42645875,\n",
       "          0.220263  ,  0.11982971, -0.45697528, -0.00407371, -0.18465412],\n",
       "        [-0.11035192, -0.12667614,  0.0377968 , -0.19691119,  0.02167618,\n",
       "          0.3268066 , -0.40842777, -0.24309908,  0.01346102, -0.3169112 ],\n",
       "        [ 0.3170569 ,  0.07196862,  0.39336044, -0.43353698, -0.18453628,\n",
       "          0.29217023,  0.3380105 ,  0.46943676,  0.38990593,  0.47986507],\n",
       "        [ 0.44621426, -0.18046865, -0.28303015,  0.11124742, -0.31806728,\n",
       "          0.0358606 , -0.27309102, -0.31937778, -0.4253415 , -0.15732366],\n",
       "        [ 0.2688195 ,  0.23389226, -0.4716225 ,  0.27096623, -0.2863681 ,\n",
       "         -0.23153678, -0.40981144, -0.29215246,  0.27136654,  0.42099363],\n",
       "        [-0.42251652, -0.46131778,  0.4079519 , -0.32973072,  0.36428016,\n",
       "          0.14285946, -0.26958966,  0.22999084,  0.25027817,  0.20064437]],\n",
       "       dtype=float32)>,\n",
       " <tf.Variable 'dense_2/bias:0' shape=(10,) dtype=float32, numpy=array([0., 0., 0., 0., 0., 0., 0., 0., 0., 0.], dtype=float32)>]"
      ]
     },
     "execution_count": 4,
     "metadata": {},
     "output_type": "execute_result"
    }
   ],
   "source": [
    "# Print the model summary\n",
    "\n",
    "model.weights"
   ]
  },
  {
   "cell_type": "code",
   "execution_count": 5,
   "metadata": {},
   "outputs": [
    {
     "name": "stdout",
     "output_type": "stream",
     "text": [
      "Model: \"sequential\"\n",
      "_________________________________________________________________\n",
      "Layer (type)                 Output Shape              Param #   \n",
      "=================================================================\n",
      "flatten (Flatten)            (None, 784)               0         \n",
      "_________________________________________________________________\n",
      "dense (Dense)                (None, 16)                12560     \n",
      "_________________________________________________________________\n",
      "dense_1 (Dense)              (None, 16)                272       \n",
      "_________________________________________________________________\n",
      "dense_2 (Dense)              (None, 10)                170       \n",
      "=================================================================\n",
      "Total params: 13,002\n",
      "Trainable params: 13,002\n",
      "Non-trainable params: 0\n",
      "_________________________________________________________________\n"
     ]
    }
   ],
   "source": [
    "model.summary()"
   ]
  },
  {
   "cell_type": "markdown",
   "metadata": {},
   "source": [
    "### Another way"
   ]
  },
  {
   "cell_type": "code",
   "execution_count": 8,
   "metadata": {},
   "outputs": [],
   "source": [
    "# Build the Sequential feedforward neural network model\n",
    "\n",
    "model = Sequential([\n",
    "    Flatten(input_shape=(28, 28)),\n",
    "    Dense(16, activation='relu', name='layer_1'),\n",
    "    Dense(16, activation='relu'),\n",
    "    Dense(10),\n",
    "    Softmax()\n",
    "])"
   ]
  },
  {
   "cell_type": "code",
   "execution_count": 9,
   "metadata": {},
   "outputs": [
    {
     "name": "stdout",
     "output_type": "stream",
     "text": [
      "Model: \"sequential_2\"\n",
      "_________________________________________________________________\n",
      "Layer (type)                 Output Shape              Param #   \n",
      "=================================================================\n",
      "flatten_2 (Flatten)          (None, 784)               0         \n",
      "_________________________________________________________________\n",
      "layer_1 (Dense)              (None, 16)                12560     \n",
      "_________________________________________________________________\n",
      "dense_6 (Dense)              (None, 16)                272       \n",
      "_________________________________________________________________\n",
      "dense_7 (Dense)              (None, 10)                170       \n",
      "_________________________________________________________________\n",
      "softmax_1 (Softmax)          (None, 10)                0         \n",
      "=================================================================\n",
      "Total params: 13,002\n",
      "Trainable params: 13,002\n",
      "Non-trainable params: 0\n",
      "_________________________________________________________________\n"
     ]
    }
   ],
   "source": [
    "model.summary()"
   ]
  },
  {
   "cell_type": "markdown",
   "metadata": {},
   "source": [
    "***\n",
    "<a id=\"coding_tutorial_2\"></a>\n",
    "## Convolutional and pooling layers"
   ]
  },
  {
   "cell_type": "code",
   "execution_count": 10,
   "metadata": {},
   "outputs": [],
   "source": [
    "from tensorflow.keras.models import Sequential\n",
    "from tensorflow.keras.layers import Dense, Flatten, Conv2D, MaxPooling2D"
   ]
  },
  {
   "cell_type": "markdown",
   "metadata": {},
   "source": [
    "#### Build a convolutional neural network model"
   ]
  },
  {
   "cell_type": "code",
   "execution_count": 17,
   "metadata": {},
   "outputs": [],
   "source": [
    "# Build the Sequential convolutional neural network model\n",
    "\n",
    "model = Sequential([\n",
    "    Conv2D(16, (3, 3), activation='relu', input_shape=(28, 28, 1))\n",
    "])"
   ]
  },
  {
   "cell_type": "code",
   "execution_count": 18,
   "metadata": {},
   "outputs": [
    {
     "name": "stdout",
     "output_type": "stream",
     "text": [
      "Model: \"sequential_5\"\n",
      "_________________________________________________________________\n",
      "Layer (type)                 Output Shape              Param #   \n",
      "=================================================================\n",
      "conv2d_2 (Conv2D)            (None, 26, 26, 16)        160       \n",
      "=================================================================\n",
      "Total params: 160\n",
      "Trainable params: 160\n",
      "Non-trainable params: 0\n",
      "_________________________________________________________________\n"
     ]
    }
   ],
   "source": [
    "# Print the model summary\n",
    "\n",
    "model.summary()"
   ]
  },
  {
   "cell_type": "code",
   "execution_count": 21,
   "metadata": {},
   "outputs": [],
   "source": [
    "# Build the Sequential convolutional neural network model\n",
    "\n",
    "model = Sequential([\n",
    "    Conv2D(16, (3,3), activation='relu', input_shape=(28,28,1)),\n",
    "    MaxPooling2D((3,3)),\n",
    "    Flatten(),\n",
    "    Dense(10, activation='softmax')\n",
    "])"
   ]
  },
  {
   "cell_type": "code",
   "execution_count": 22,
   "metadata": {},
   "outputs": [
    {
     "name": "stdout",
     "output_type": "stream",
     "text": [
      "Model: \"sequential_7\"\n",
      "_________________________________________________________________\n",
      "Layer (type)                 Output Shape              Param #   \n",
      "=================================================================\n",
      "conv2d_4 (Conv2D)            (None, 26, 26, 16)        160       \n",
      "_________________________________________________________________\n",
      "max_pooling2d_1 (MaxPooling2 (None, 8, 8, 16)          0         \n",
      "_________________________________________________________________\n",
      "flatten_3 (Flatten)          (None, 1024)              0         \n",
      "_________________________________________________________________\n",
      "dense_8 (Dense)              (None, 10)                10250     \n",
      "=================================================================\n",
      "Total params: 10,410\n",
      "Trainable params: 10,410\n",
      "Non-trainable params: 0\n",
      "_________________________________________________________________\n"
     ]
    }
   ],
   "source": [
    "# Print the model summary\n",
    "\n",
    "model.summary()"
   ]
  },
  {
   "cell_type": "code",
   "execution_count": 23,
   "metadata": {},
   "outputs": [],
   "source": [
    "# Build the Sequential convolutional neural network model\n",
    "\n",
    "model = Sequential([\n",
    "    Conv2D(16, (3,3), padding='SAME', activation='relu', input_shape=(28,28,1)),\n",
    "    MaxPooling2D((3,3)),\n",
    "    Flatten(),\n",
    "    Dense(10, activation='softmax')\n",
    "])"
   ]
  },
  {
   "cell_type": "code",
   "execution_count": 24,
   "metadata": {
    "scrolled": true
   },
   "outputs": [
    {
     "name": "stdout",
     "output_type": "stream",
     "text": [
      "Model: \"sequential_8\"\n",
      "_________________________________________________________________\n",
      "Layer (type)                 Output Shape              Param #   \n",
      "=================================================================\n",
      "conv2d_5 (Conv2D)            (None, 28, 28, 16)        160       \n",
      "_________________________________________________________________\n",
      "max_pooling2d_2 (MaxPooling2 (None, 9, 9, 16)          0         \n",
      "_________________________________________________________________\n",
      "flatten_4 (Flatten)          (None, 1296)              0         \n",
      "_________________________________________________________________\n",
      "dense_9 (Dense)              (None, 10)                12970     \n",
      "=================================================================\n",
      "Total params: 13,130\n",
      "Trainable params: 13,130\n",
      "Non-trainable params: 0\n",
      "_________________________________________________________________\n"
     ]
    }
   ],
   "source": [
    "# Print the model summary\n",
    "\n",
    "model.summary()"
   ]
  },
  {
   "cell_type": "code",
   "execution_count": 25,
   "metadata": {},
   "outputs": [],
   "source": [
    "# Build the Sequential convolutional neural network model\n",
    "\n",
    "model = Sequential([\n",
    "    Conv2D(16, (3,3), padding='SAME', strides=2, activation='relu', input_shape=(28,28,1)),\n",
    "    MaxPooling2D((3,3)),\n",
    "    Flatten(),\n",
    "    Dense(10, activation='softmax')\n",
    "])"
   ]
  },
  {
   "cell_type": "code",
   "execution_count": 26,
   "metadata": {
    "scrolled": false
   },
   "outputs": [
    {
     "name": "stdout",
     "output_type": "stream",
     "text": [
      "Model: \"sequential_9\"\n",
      "_________________________________________________________________\n",
      "Layer (type)                 Output Shape              Param #   \n",
      "=================================================================\n",
      "conv2d_6 (Conv2D)            (None, 14, 14, 16)        160       \n",
      "_________________________________________________________________\n",
      "max_pooling2d_3 (MaxPooling2 (None, 4, 4, 16)          0         \n",
      "_________________________________________________________________\n",
      "flatten_5 (Flatten)          (None, 256)               0         \n",
      "_________________________________________________________________\n",
      "dense_10 (Dense)             (None, 10)                2570      \n",
      "=================================================================\n",
      "Total params: 2,730\n",
      "Trainable params: 2,730\n",
      "Non-trainable params: 0\n",
      "_________________________________________________________________\n"
     ]
    }
   ],
   "source": [
    "# Print the model summary\n",
    "\n",
    "model.summary()"
   ]
  },
  {
   "cell_type": "code",
   "execution_count": 27,
   "metadata": {},
   "outputs": [],
   "source": [
    "# Build the Sequential convolutional neural network model\n",
    "\n",
    "model = Sequential([\n",
    "    Conv2D(16, (3,3), activation='relu', input_shape=(28,28,1), data_format='channels_last'),\n",
    "    MaxPooling2D((3,3)),\n",
    "    Flatten(),\n",
    "    Dense(10, activation='softmax')\n",
    "])"
   ]
  },
  {
   "cell_type": "code",
   "execution_count": 28,
   "metadata": {
    "scrolled": false
   },
   "outputs": [
    {
     "name": "stdout",
     "output_type": "stream",
     "text": [
      "Model: \"sequential_10\"\n",
      "_________________________________________________________________\n",
      "Layer (type)                 Output Shape              Param #   \n",
      "=================================================================\n",
      "conv2d_7 (Conv2D)            (None, 26, 26, 16)        160       \n",
      "_________________________________________________________________\n",
      "max_pooling2d_4 (MaxPooling2 (None, 8, 8, 16)          0         \n",
      "_________________________________________________________________\n",
      "flatten_6 (Flatten)          (None, 1024)              0         \n",
      "_________________________________________________________________\n",
      "dense_11 (Dense)             (None, 10)                10250     \n",
      "=================================================================\n",
      "Total params: 10,410\n",
      "Trainable params: 10,410\n",
      "Non-trainable params: 0\n",
      "_________________________________________________________________\n"
     ]
    }
   ],
   "source": [
    "# Print the model summary\n",
    "\n",
    "model.summary()"
   ]
  },
  {
   "cell_type": "code",
   "execution_count": 29,
   "metadata": {},
   "outputs": [],
   "source": [
    "# Build the Sequential convolutional neural network model\n",
    "\n",
    "model = Sequential([\n",
    "    Conv2D(16, (3,3), activation='relu', input_shape=(1,28,28), data_format='channels_first'),\n",
    "    MaxPooling2D((3,3), data_format='channels_first'),\n",
    "    Flatten(),\n",
    "    Dense(10, activation='softmax')\n",
    "])"
   ]
  },
  {
   "cell_type": "code",
   "execution_count": 30,
   "metadata": {
    "scrolled": false
   },
   "outputs": [
    {
     "name": "stdout",
     "output_type": "stream",
     "text": [
      "Model: \"sequential_11\"\n",
      "_________________________________________________________________\n",
      "Layer (type)                 Output Shape              Param #   \n",
      "=================================================================\n",
      "conv2d_8 (Conv2D)            (None, 16, 26, 26)        160       \n",
      "_________________________________________________________________\n",
      "max_pooling2d_5 (MaxPooling2 (None, 16, 8, 8)          0         \n",
      "_________________________________________________________________\n",
      "flatten_7 (Flatten)          (None, 1024)              0         \n",
      "_________________________________________________________________\n",
      "dense_12 (Dense)             (None, 10)                10250     \n",
      "=================================================================\n",
      "Total params: 10,410\n",
      "Trainable params: 10,410\n",
      "Non-trainable params: 0\n",
      "_________________________________________________________________\n"
     ]
    }
   ],
   "source": [
    "# Print the model summary\n",
    "\n",
    "model.summary()"
   ]
  },
  {
   "cell_type": "markdown",
   "metadata": {},
   "source": [
    "***\n",
    "<a id=\"coding_tutorial_3\"></a>\n",
    "## The compile method"
   ]
  },
  {
   "cell_type": "markdown",
   "metadata": {},
   "source": [
    "#### Compile the model"
   ]
  },
  {
   "cell_type": "code",
   "execution_count": null,
   "metadata": {},
   "outputs": [],
   "source": [
    "# Define the model optimizer, loss function and metrics\n",
    "\n"
   ]
  },
  {
   "cell_type": "code",
   "execution_count": null,
   "metadata": {},
   "outputs": [],
   "source": [
    "# Print the resulting model attributes\n",
    "\n"
   ]
  },
  {
   "cell_type": "markdown",
   "metadata": {},
   "source": [
    "***\n",
    "<a id=\"coding_tutorial_4\"></a>\n",
    "## The fit method"
   ]
  },
  {
   "cell_type": "code",
   "execution_count": null,
   "metadata": {},
   "outputs": [],
   "source": [
    "from tensorflow.keras.preprocessing import image\n",
    "import matplotlib.pyplot as plt\n",
    "import numpy as np\n",
    "import pandas as pd"
   ]
  },
  {
   "cell_type": "markdown",
   "metadata": {},
   "source": [
    "#### Load the data"
   ]
  },
  {
   "cell_type": "code",
   "execution_count": null,
   "metadata": {},
   "outputs": [],
   "source": [
    "# Load the Fashion-MNIST dataset\n",
    "\n",
    "fashion_mnist_data = tf.keras.datasets.fashion_mnist\n",
    "(train_images, train_labels), (test_images, test_labels) = fashion_mnist_data.load_data()"
   ]
  },
  {
   "cell_type": "code",
   "execution_count": null,
   "metadata": {},
   "outputs": [],
   "source": [
    "# Print the shape of the training data\n",
    "\n"
   ]
  },
  {
   "cell_type": "code",
   "execution_count": null,
   "metadata": {},
   "outputs": [],
   "source": [
    "# Define the labels\n",
    "\n",
    "labels = [\n",
    "    'T-shirt/top',\n",
    "    'Trouser',\n",
    "    'Pullover',\n",
    "    'Dress',\n",
    "    'Coat',\n",
    "    'Sandal',\n",
    "    'Shirt',\n",
    "    'Sneaker',\n",
    "    'Bag',\n",
    "    'Ankle boot'\n",
    "]"
   ]
  },
  {
   "cell_type": "code",
   "execution_count": null,
   "metadata": {},
   "outputs": [],
   "source": [
    "# Rescale the image values so that they lie in between 0 and 1.\n",
    "\n"
   ]
  },
  {
   "cell_type": "code",
   "execution_count": null,
   "metadata": {},
   "outputs": [],
   "source": [
    "# Display one of the images\n",
    "\n"
   ]
  },
  {
   "cell_type": "markdown",
   "metadata": {},
   "source": [
    "#### Fit the model"
   ]
  },
  {
   "cell_type": "code",
   "execution_count": null,
   "metadata": {},
   "outputs": [],
   "source": [
    "# Fit the model\n",
    "\n"
   ]
  },
  {
   "cell_type": "markdown",
   "metadata": {},
   "source": [
    "#### Plot training history"
   ]
  },
  {
   "cell_type": "code",
   "execution_count": null,
   "metadata": {},
   "outputs": [],
   "source": [
    "# Load the history into a pandas Dataframe\n",
    "\n"
   ]
  },
  {
   "cell_type": "code",
   "execution_count": null,
   "metadata": {},
   "outputs": [],
   "source": [
    "# Make a plot for the loss\n",
    "\n"
   ]
  },
  {
   "cell_type": "code",
   "execution_count": null,
   "metadata": {},
   "outputs": [],
   "source": [
    "# Make a plot for the accuracy\n",
    "\n"
   ]
  },
  {
   "cell_type": "code",
   "execution_count": null,
   "metadata": {},
   "outputs": [],
   "source": [
    "# Make a plot for the additional metric\n",
    "\n"
   ]
  },
  {
   "cell_type": "markdown",
   "metadata": {},
   "source": [
    "***\n",
    "<a id=\"coding_tutorial_5\"></a>\n",
    "## The evaluate and predict methods"
   ]
  },
  {
   "cell_type": "code",
   "execution_count": null,
   "metadata": {},
   "outputs": [],
   "source": [
    "import matplotlib.pyplot as plt\n",
    "import numpy as np"
   ]
  },
  {
   "cell_type": "markdown",
   "metadata": {},
   "source": [
    "#### Evaluate the model on the test set"
   ]
  },
  {
   "cell_type": "code",
   "execution_count": null,
   "metadata": {},
   "outputs": [],
   "source": [
    "# Evaluate the model\n",
    "\n"
   ]
  },
  {
   "cell_type": "markdown",
   "metadata": {},
   "source": [
    "#### Make predictions from the model"
   ]
  },
  {
   "cell_type": "code",
   "execution_count": null,
   "metadata": {},
   "outputs": [],
   "source": [
    "# Choose a random test image\n",
    "\n",
    "random_inx = np.random.choice(test_images.shape[0])\n",
    "\n",
    "test_image = test_images[random_inx]\n",
    "plt.imshow(test_image)\n",
    "plt.show()\n",
    "print(f\"Label: {labels[test_labels[random_inx]]}\")"
   ]
  },
  {
   "cell_type": "code",
   "execution_count": null,
   "metadata": {},
   "outputs": [],
   "source": [
    "# Get the model predictions\n",
    "\n"
   ]
  }
 ],
 "metadata": {
  "kernelspec": {
   "display_name": "Python 3",
   "language": "python",
   "name": "python3"
  },
  "language_info": {
   "codemirror_mode": {
    "name": "ipython",
    "version": 3
   },
   "file_extension": ".py",
   "mimetype": "text/x-python",
   "name": "python",
   "nbconvert_exporter": "python",
   "pygments_lexer": "ipython3",
   "version": "3.8.5"
  }
 },
 "nbformat": 4,
 "nbformat_minor": 2
}
