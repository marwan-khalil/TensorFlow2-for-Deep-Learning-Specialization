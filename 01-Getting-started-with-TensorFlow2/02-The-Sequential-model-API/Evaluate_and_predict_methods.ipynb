{
 "cells": [
  {
   "cell_type": "code",
   "execution_count": 1,
   "metadata": {},
   "outputs": [
    {
     "name": "stdout",
     "output_type": "stream",
     "text": [
      "2.0.0\n"
     ]
    }
   ],
   "source": [
    "import tensorflow as tf\n",
    "print(tf.__version__)"
   ]
  },
  {
   "cell_type": "markdown",
   "metadata": {},
   "source": [
    "# The Sequential model API"
   ]
  },
  {
   "cell_type": "markdown",
   "metadata": {},
   "source": [
    " ## Coding tutorials\n",
    " #### [1. Building a Sequential model](#coding_tutorial_1)\n",
    " #### [2. Convolutional and pooling layers](#coding_tutorial_2)\n",
    " #### [3. The compile method](#coding_tutorial_3)\n",
    " #### [4. The fit method](#coding_tutorial_4)\n",
    " #### [5. The evaluate and predict methods](#coding_tutorial_5)"
   ]
  },
  {
   "cell_type": "markdown",
   "metadata": {},
   "source": [
    "***\n",
    "<a id=\"coding_tutorial_1\"></a>\n",
    "## Building a Sequential model"
   ]
  },
  {
   "cell_type": "code",
   "execution_count": 2,
   "metadata": {},
   "outputs": [],
   "source": [
    "from tensorflow.keras.models import Sequential\n",
    "from tensorflow.keras.layers import Dense, Flatten, Softmax"
   ]
  },
  {
   "cell_type": "markdown",
   "metadata": {},
   "source": [
    "#### Build a feedforward neural network model"
   ]
  },
  {
   "cell_type": "code",
   "execution_count": 3,
   "metadata": {},
   "outputs": [],
   "source": [
    "# Build the Sequential feedforward neural network model\n",
    "\n",
    "model = Sequential([\n",
    "    Flatten(input_shape=(28, 28)),\n",
    "    Dense(16, activation='relu'),\n",
    "    Dense(16, activation='relu'),\n",
    "    Dense(10, activation='softmax')\n",
    "])"
   ]
  },
  {
   "cell_type": "code",
   "execution_count": 4,
   "metadata": {},
   "outputs": [
    {
     "data": {
      "text/plain": [
       "[<tf.Variable 'dense/kernel:0' shape=(784, 16) dtype=float32, numpy=\n",
       " array([[-0.04811787, -0.07668027,  0.07559992, ...,  0.05821818,\n",
       "          0.00598367,  0.03251452],\n",
       "        [-0.06370375, -0.06416667, -0.0525266 , ..., -0.0148206 ,\n",
       "         -0.06710909,  0.07494535],\n",
       "        [-0.03313383,  0.0251532 ,  0.02492546, ..., -0.08623982,\n",
       "          0.05468571, -0.08286005],\n",
       "        ...,\n",
       "        [ 0.02925863, -0.02566852,  0.02299026, ..., -0.00110052,\n",
       "         -0.02981282, -0.08263959],\n",
       "        [-0.05834785, -0.02373188, -0.01554935, ...,  0.02677053,\n",
       "          0.0785865 ,  0.05671258],\n",
       "        [ 0.07198274, -0.02969327,  0.0629451 , ...,  0.00874818,\n",
       "          0.07242098, -0.07218034]], dtype=float32)>,\n",
       " <tf.Variable 'dense/bias:0' shape=(16,) dtype=float32, numpy=\n",
       " array([0., 0., 0., 0., 0., 0., 0., 0., 0., 0., 0., 0., 0., 0., 0., 0.],\n",
       "       dtype=float32)>,\n",
       " <tf.Variable 'dense_1/kernel:0' shape=(16, 16) dtype=float32, numpy=\n",
       " array([[-1.15679711e-01,  1.52102798e-01, -2.24684671e-01,\n",
       "         -1.72728986e-01, -1.83678538e-01, -1.38418585e-01,\n",
       "          2.75502175e-01,  3.41198891e-01,  2.12128729e-01,\n",
       "         -1.98827833e-01, -3.84492666e-01, -2.95888543e-01,\n",
       "         -2.38774016e-01,  3.02869976e-02, -3.20071578e-01,\n",
       "         -5.50062656e-02],\n",
       "        [-2.60594666e-01, -3.95823717e-02, -3.27393353e-01,\n",
       "          1.48505956e-01, -2.47228920e-01, -3.34318548e-01,\n",
       "          1.69521064e-01,  3.19507390e-01, -3.46401036e-01,\n",
       "         -7.38364160e-02, -2.89709091e-01, -4.13797498e-02,\n",
       "          2.50222653e-01, -2.82457769e-02, -3.84507954e-01,\n",
       "          1.44126743e-01],\n",
       "        [-3.42297643e-01, -2.93627918e-01,  2.30366915e-01,\n",
       "          3.69597167e-01, -6.44266605e-02, -2.39850178e-01,\n",
       "         -3.80338252e-01, -3.72212797e-01, -3.10826600e-02,\n",
       "         -2.12240547e-01,  1.56439215e-01, -2.65640855e-01,\n",
       "         -2.45509073e-01,  2.96418667e-02, -2.99782574e-01,\n",
       "          1.62983924e-01],\n",
       "        [-3.58075947e-01, -1.33479238e-01,  8.91959965e-02,\n",
       "         -2.21605808e-01,  4.13776010e-01,  4.33525443e-02,\n",
       "          1.75495356e-01,  2.05583304e-01,  3.96223098e-01,\n",
       "         -2.29369730e-01,  1.48376226e-02,  2.41145104e-01,\n",
       "         -2.50157714e-03,  2.53175646e-01,  3.33318919e-01,\n",
       "          4.18972969e-03],\n",
       "        [ 6.87986314e-02,  1.58540517e-01, -2.30394572e-01,\n",
       "          1.20418757e-01, -1.35169029e-01, -3.74431670e-01,\n",
       "          1.08986288e-01, -4.09226686e-01,  3.44167978e-01,\n",
       "         -3.57633680e-01, -2.31657282e-01, -3.74417752e-01,\n",
       "         -1.56056404e-01, -5.47300279e-02,  1.00780457e-01,\n",
       "          1.07388765e-01],\n",
       "        [ 3.32365066e-01,  1.19497806e-01,  3.20062190e-01,\n",
       "          2.22927362e-01,  1.71960890e-02, -3.95134151e-01,\n",
       "         -2.33227223e-01,  2.56252259e-01, -3.98042679e-01,\n",
       "          2.69909412e-01,  1.74760818e-02, -3.56234074e-01,\n",
       "          1.14541203e-01,  8.97729397e-03,  1.49445146e-01,\n",
       "          4.32047755e-01],\n",
       "        [-1.89443260e-01,  2.34093100e-01,  3.39653403e-01,\n",
       "          1.21613771e-01,  2.01105446e-01,  2.90451080e-01,\n",
       "          3.37981969e-01,  9.41303074e-02,  5.54183125e-02,\n",
       "          1.81138903e-01, -2.78973877e-01,  4.27338511e-01,\n",
       "         -2.55518854e-01,  2.42620707e-04,  3.41903567e-02,\n",
       "          4.07082111e-01],\n",
       "        [-2.89734781e-01, -2.47639805e-01, -4.29071158e-01,\n",
       "         -2.01049417e-01, -8.94457102e-03,  2.88019687e-01,\n",
       "         -2.49811217e-01,  2.03995705e-02, -9.58431959e-02,\n",
       "          1.70096189e-01, -1.95336714e-01, -2.67202318e-01,\n",
       "          1.80971295e-01, -1.74670070e-01, -4.11500633e-02,\n",
       "         -1.21056587e-01],\n",
       "        [ 1.42284006e-01,  3.51327807e-01,  2.29613394e-01,\n",
       "          3.93499464e-01,  1.56017691e-01,  2.90293425e-01,\n",
       "         -2.22649023e-01,  1.69836968e-01,  3.77490550e-01,\n",
       "          3.90744597e-01, -1.17587566e-01,  4.29566175e-01,\n",
       "         -1.29395753e-01,  2.32088864e-02, -2.00747237e-01,\n",
       "         -1.29341662e-01],\n",
       "        [-3.54073703e-01, -3.23978305e-01, -1.46170527e-01,\n",
       "          1.02348238e-01, -1.01401865e-01,  3.04960996e-01,\n",
       "          2.49675781e-01,  4.06304926e-01,  3.87260169e-01,\n",
       "          2.71873742e-01,  3.82572204e-01, -3.02741289e-01,\n",
       "         -3.01731914e-01,  1.12323016e-01,  1.13874584e-01,\n",
       "         -3.22455853e-01],\n",
       "        [-1.01674736e-01,  2.72950530e-02, -1.77318037e-01,\n",
       "         -8.98010731e-02, -1.40208095e-01,  1.34423643e-01,\n",
       "         -3.83556306e-01, -8.92819166e-02,  4.81232703e-02,\n",
       "         -4.20479149e-01, -1.72229409e-02,  1.82273597e-01,\n",
       "         -1.17580742e-01,  1.47725731e-01, -4.18339133e-01,\n",
       "          3.71862918e-01],\n",
       "        [-3.16197038e-01, -2.98962027e-01, -1.19347453e-01,\n",
       "          1.80096716e-01, -1.82105601e-01,  2.28006274e-01,\n",
       "          1.93547815e-01,  3.27907652e-01,  3.62748951e-01,\n",
       "          4.03893799e-01,  2.98438221e-01,  3.19580287e-01,\n",
       "          8.99079144e-02,  4.28674906e-01, -3.50704730e-01,\n",
       "          1.32756680e-01],\n",
       "        [ 3.24473470e-01, -1.59565806e-01, -4.03750539e-01,\n",
       "         -1.25760525e-01, -3.32710117e-01,  3.39549929e-01,\n",
       "          4.10766691e-01,  3.22399825e-01,  8.22057426e-02,\n",
       "          9.03764069e-02,  1.36703461e-01, -1.05347335e-01,\n",
       "          3.89268994e-03, -2.80511707e-01,  3.29987615e-01,\n",
       "         -2.58665740e-01],\n",
       "        [ 3.66180569e-01,  1.02486581e-01, -3.51826936e-01,\n",
       "          3.65215927e-01,  2.93067843e-01, -4.00552839e-01,\n",
       "          2.33441442e-01,  7.19231367e-03,  3.14455420e-01,\n",
       "          2.83450574e-01,  4.36413884e-02, -2.20777005e-01,\n",
       "          4.02001888e-01, -8.54920149e-02, -2.47951493e-01,\n",
       "          1.73365325e-01],\n",
       "        [ 9.30226147e-02, -5.40239811e-02, -2.31107131e-01,\n",
       "          7.40984380e-02,  2.28170305e-01, -1.97395906e-01,\n",
       "         -2.60342866e-01,  3.98769706e-01, -2.88859129e-01,\n",
       "          2.21206546e-02,  1.84529334e-01,  4.22869653e-01,\n",
       "          9.46377218e-02, -2.48162091e-01, -1.54042125e-01,\n",
       "          2.47259766e-01],\n",
       "        [ 2.35032529e-01,  4.32892442e-02,  3.34294587e-01,\n",
       "         -2.38087475e-01,  4.01041508e-02,  1.87057704e-01,\n",
       "         -2.05215693e-01,  1.77974313e-01,  4.01107818e-01,\n",
       "          1.19531453e-02, -3.75039250e-01,  3.64582151e-01,\n",
       "         -1.36345655e-01, -2.74226665e-01, -2.51980573e-01,\n",
       "          1.25882655e-01]], dtype=float32)>,\n",
       " <tf.Variable 'dense_1/bias:0' shape=(16,) dtype=float32, numpy=\n",
       " array([0., 0., 0., 0., 0., 0., 0., 0., 0., 0., 0., 0., 0., 0., 0., 0.],\n",
       "       dtype=float32)>,\n",
       " <tf.Variable 'dense_2/kernel:0' shape=(16, 10) dtype=float32, numpy=\n",
       " array([[-2.27311105e-01, -4.22926545e-02,  2.10322142e-01,\n",
       "          1.02745891e-02,  4.59568977e-01,  1.53697670e-01,\n",
       "          2.92600989e-02, -4.38816577e-01,  3.75682890e-01,\n",
       "         -3.53388548e-01],\n",
       "        [ 4.64159906e-01, -1.24221474e-01, -3.46330613e-01,\n",
       "          8.59708786e-02,  2.47578919e-01, -3.83925021e-01,\n",
       "         -1.22531891e-01, -2.00132966e-01, -3.70090514e-01,\n",
       "         -4.48387265e-01],\n",
       "        [-1.76841855e-01,  1.00020587e-01,  3.86924624e-01,\n",
       "          2.69384503e-01,  2.42204070e-02, -5.96017241e-02,\n",
       "          5.96177578e-02, -4.64361936e-01, -4.15965021e-02,\n",
       "          4.44948673e-04],\n",
       "        [-9.01354253e-02,  3.32577169e-01,  1.53699756e-01,\n",
       "         -3.87083948e-01, -4.06164616e-01,  2.13200450e-01,\n",
       "          9.34896469e-02, -1.59896642e-01,  3.43182325e-01,\n",
       "          1.33856177e-01],\n",
       "        [ 1.45568371e-01, -3.67060214e-01, -3.01402926e-01,\n",
       "          2.23280191e-02,  1.16779804e-01, -8.31128657e-02,\n",
       "          1.03064299e-01, -3.74610990e-01,  4.68043149e-01,\n",
       "         -2.57737041e-01],\n",
       "        [ 2.45170593e-01,  5.55686951e-02, -8.29731226e-02,\n",
       "          1.48148239e-01, -2.32619911e-01, -4.05872196e-01,\n",
       "          4.55628574e-01, -3.69943678e-02, -2.65172124e-01,\n",
       "         -3.56115103e-02],\n",
       "        [ 2.80750990e-01, -4.01761293e-01, -3.02370131e-01,\n",
       "         -1.67342752e-01, -1.58192277e-01, -5.89659512e-02,\n",
       "         -4.44169372e-01,  1.19116068e-01,  9.34060216e-02,\n",
       "          1.97154999e-01],\n",
       "        [ 2.61479974e-01, -2.20569819e-01, -4.33767885e-01,\n",
       "          3.53141963e-01,  2.32544303e-01, -3.58472198e-01,\n",
       "         -2.88661391e-01,  3.81312549e-01,  2.13122368e-01,\n",
       "          2.22318947e-01],\n",
       "        [ 1.25233829e-01, -3.55437994e-02,  2.94141173e-02,\n",
       "         -3.91154200e-01,  4.27294254e-01, -1.98745996e-01,\n",
       "         -3.41688812e-01, -8.71925056e-02,  1.04375482e-01,\n",
       "         -3.98510396e-01],\n",
       "        [-2.96512246e-01,  2.53614902e-01, -1.76429540e-01,\n",
       "         -2.93661892e-01, -1.59724385e-01, -5.03501296e-02,\n",
       "          4.17017579e-01,  3.66828501e-01,  6.55893683e-02,\n",
       "          9.29617286e-02],\n",
       "        [-1.73729450e-01,  3.40033054e-01, -1.82275862e-01,\n",
       "         -1.45064235e-01, -1.82234049e-01, -6.88426793e-02,\n",
       "          5.75685501e-02, -5.53217530e-02, -7.26278722e-02,\n",
       "          1.53139234e-01],\n",
       "        [ 2.79747188e-01, -1.92269504e-01,  2.87331879e-01,\n",
       "          4.15363908e-02,  2.05907047e-01,  1.25965178e-02,\n",
       "         -3.36060345e-01,  3.32615793e-01, -4.30805713e-01,\n",
       "          1.43524110e-01],\n",
       "        [-3.55949283e-01,  2.81085432e-01, -2.58420110e-01,\n",
       "         -4.30500716e-01, -6.91236258e-02,  1.32863641e-01,\n",
       "         -3.33990067e-01,  6.52294159e-02, -4.68298405e-01,\n",
       "         -3.14753413e-01],\n",
       "        [ 1.74034894e-01,  3.21176946e-01,  3.03566635e-01,\n",
       "          1.18126154e-01,  9.73910689e-02,  1.53298199e-01,\n",
       "          6.55994415e-02,  1.90711617e-02,  2.50059009e-01,\n",
       "          2.20715940e-01],\n",
       "        [-1.86939508e-01,  2.35232174e-01,  9.17212367e-02,\n",
       "          2.53013492e-01, -2.28574634e-01, -4.26221222e-01,\n",
       "          2.29034126e-01, -7.10880756e-02, -6.36896193e-02,\n",
       "          3.89845312e-01],\n",
       "        [ 3.10731947e-01,  7.87681937e-02,  2.41438210e-01,\n",
       "         -1.95155740e-01, -3.93302262e-01, -1.63683563e-01,\n",
       "         -3.94272566e-01,  2.59599090e-01, -3.66865396e-01,\n",
       "         -1.30734831e-01]], dtype=float32)>,\n",
       " <tf.Variable 'dense_2/bias:0' shape=(10,) dtype=float32, numpy=array([0., 0., 0., 0., 0., 0., 0., 0., 0., 0.], dtype=float32)>]"
      ]
     },
     "execution_count": 4,
     "metadata": {},
     "output_type": "execute_result"
    }
   ],
   "source": [
    "# Print the model summary\n",
    "\n",
    "model.weights"
   ]
  },
  {
   "cell_type": "code",
   "execution_count": 5,
   "metadata": {},
   "outputs": [
    {
     "name": "stdout",
     "output_type": "stream",
     "text": [
      "Model: \"sequential\"\n",
      "_________________________________________________________________\n",
      "Layer (type)                 Output Shape              Param #   \n",
      "=================================================================\n",
      "flatten (Flatten)            (None, 784)               0         \n",
      "_________________________________________________________________\n",
      "dense (Dense)                (None, 16)                12560     \n",
      "_________________________________________________________________\n",
      "dense_1 (Dense)              (None, 16)                272       \n",
      "_________________________________________________________________\n",
      "dense_2 (Dense)              (None, 10)                170       \n",
      "=================================================================\n",
      "Total params: 13,002\n",
      "Trainable params: 13,002\n",
      "Non-trainable params: 0\n",
      "_________________________________________________________________\n"
     ]
    }
   ],
   "source": [
    "model.summary()"
   ]
  },
  {
   "cell_type": "markdown",
   "metadata": {},
   "source": [
    "### Another way"
   ]
  },
  {
   "cell_type": "code",
   "execution_count": 6,
   "metadata": {},
   "outputs": [],
   "source": [
    "# Build the Sequential feedforward neural network model\n",
    "\n",
    "model = Sequential([\n",
    "    Flatten(input_shape=(28, 28)),\n",
    "    Dense(16, activation='relu', name='layer_1'),\n",
    "    Dense(16, activation='relu'),\n",
    "    Dense(10),\n",
    "    Softmax()\n",
    "])"
   ]
  },
  {
   "cell_type": "code",
   "execution_count": 7,
   "metadata": {},
   "outputs": [
    {
     "name": "stdout",
     "output_type": "stream",
     "text": [
      "Model: \"sequential_1\"\n",
      "_________________________________________________________________\n",
      "Layer (type)                 Output Shape              Param #   \n",
      "=================================================================\n",
      "flatten_1 (Flatten)          (None, 784)               0         \n",
      "_________________________________________________________________\n",
      "layer_1 (Dense)              (None, 16)                12560     \n",
      "_________________________________________________________________\n",
      "dense_3 (Dense)              (None, 16)                272       \n",
      "_________________________________________________________________\n",
      "dense_4 (Dense)              (None, 10)                170       \n",
      "_________________________________________________________________\n",
      "softmax (Softmax)            (None, 10)                0         \n",
      "=================================================================\n",
      "Total params: 13,002\n",
      "Trainable params: 13,002\n",
      "Non-trainable params: 0\n",
      "_________________________________________________________________\n"
     ]
    }
   ],
   "source": [
    "model.summary()"
   ]
  },
  {
   "cell_type": "markdown",
   "metadata": {},
   "source": [
    "***\n",
    "<a id=\"coding_tutorial_2\"></a>\n",
    "## Convolutional and pooling layers"
   ]
  },
  {
   "cell_type": "code",
   "execution_count": 8,
   "metadata": {},
   "outputs": [],
   "source": [
    "from tensorflow.keras.models import Sequential\n",
    "from tensorflow.keras.layers import Dense, Flatten, Conv2D, MaxPooling2D"
   ]
  },
  {
   "cell_type": "markdown",
   "metadata": {},
   "source": [
    "#### Build a convolutional neural network model"
   ]
  },
  {
   "cell_type": "code",
   "execution_count": 9,
   "metadata": {},
   "outputs": [],
   "source": [
    "# Build the Sequential convolutional neural network model\n",
    "\n",
    "model = Sequential([\n",
    "    Conv2D(16, (3, 3), activation='relu', input_shape=(28, 28, 1))\n",
    "])"
   ]
  },
  {
   "cell_type": "code",
   "execution_count": 10,
   "metadata": {},
   "outputs": [
    {
     "name": "stdout",
     "output_type": "stream",
     "text": [
      "Model: \"sequential_2\"\n",
      "_________________________________________________________________\n",
      "Layer (type)                 Output Shape              Param #   \n",
      "=================================================================\n",
      "conv2d (Conv2D)              (None, 26, 26, 16)        160       \n",
      "=================================================================\n",
      "Total params: 160\n",
      "Trainable params: 160\n",
      "Non-trainable params: 0\n",
      "_________________________________________________________________\n"
     ]
    }
   ],
   "source": [
    "# Print the model summary\n",
    "\n",
    "model.summary()"
   ]
  },
  {
   "cell_type": "code",
   "execution_count": 11,
   "metadata": {},
   "outputs": [],
   "source": [
    "# Build the Sequential convolutional neural network model\n",
    "\n",
    "model = Sequential([\n",
    "    Conv2D(16, (3,3), activation='relu', input_shape=(28,28,1)),\n",
    "    MaxPooling2D((3,3)),\n",
    "    Flatten(),\n",
    "    Dense(10, activation='softmax')\n",
    "])"
   ]
  },
  {
   "cell_type": "code",
   "execution_count": 12,
   "metadata": {},
   "outputs": [
    {
     "name": "stdout",
     "output_type": "stream",
     "text": [
      "Model: \"sequential_3\"\n",
      "_________________________________________________________________\n",
      "Layer (type)                 Output Shape              Param #   \n",
      "=================================================================\n",
      "conv2d_1 (Conv2D)            (None, 26, 26, 16)        160       \n",
      "_________________________________________________________________\n",
      "max_pooling2d (MaxPooling2D) (None, 8, 8, 16)          0         \n",
      "_________________________________________________________________\n",
      "flatten_2 (Flatten)          (None, 1024)              0         \n",
      "_________________________________________________________________\n",
      "dense_5 (Dense)              (None, 10)                10250     \n",
      "=================================================================\n",
      "Total params: 10,410\n",
      "Trainable params: 10,410\n",
      "Non-trainable params: 0\n",
      "_________________________________________________________________\n"
     ]
    }
   ],
   "source": [
    "# Print the model summary\n",
    "\n",
    "model.summary()"
   ]
  },
  {
   "cell_type": "code",
   "execution_count": 13,
   "metadata": {},
   "outputs": [],
   "source": [
    "# Build the Sequential convolutional neural network model\n",
    "\n",
    "model = Sequential([\n",
    "    Conv2D(16, (3,3), padding='SAME', activation='relu', input_shape=(28,28,1)),\n",
    "    MaxPooling2D((3,3)),\n",
    "    Flatten(),\n",
    "    Dense(10, activation='softmax')\n",
    "])"
   ]
  },
  {
   "cell_type": "code",
   "execution_count": 14,
   "metadata": {
    "scrolled": true
   },
   "outputs": [
    {
     "name": "stdout",
     "output_type": "stream",
     "text": [
      "Model: \"sequential_4\"\n",
      "_________________________________________________________________\n",
      "Layer (type)                 Output Shape              Param #   \n",
      "=================================================================\n",
      "conv2d_2 (Conv2D)            (None, 28, 28, 16)        160       \n",
      "_________________________________________________________________\n",
      "max_pooling2d_1 (MaxPooling2 (None, 9, 9, 16)          0         \n",
      "_________________________________________________________________\n",
      "flatten_3 (Flatten)          (None, 1296)              0         \n",
      "_________________________________________________________________\n",
      "dense_6 (Dense)              (None, 10)                12970     \n",
      "=================================================================\n",
      "Total params: 13,130\n",
      "Trainable params: 13,130\n",
      "Non-trainable params: 0\n",
      "_________________________________________________________________\n"
     ]
    }
   ],
   "source": [
    "# Print the model summary\n",
    "\n",
    "model.summary()"
   ]
  },
  {
   "cell_type": "code",
   "execution_count": 15,
   "metadata": {},
   "outputs": [],
   "source": [
    "# Build the Sequential convolutional neural network model\n",
    "\n",
    "model = Sequential([\n",
    "    Conv2D(16, (3,3), padding='SAME', strides=2, activation='relu', input_shape=(28,28,1)),\n",
    "    MaxPooling2D((3,3)),\n",
    "    Flatten(),\n",
    "    Dense(10, activation='softmax')\n",
    "])"
   ]
  },
  {
   "cell_type": "code",
   "execution_count": 16,
   "metadata": {
    "scrolled": false
   },
   "outputs": [
    {
     "name": "stdout",
     "output_type": "stream",
     "text": [
      "Model: \"sequential_5\"\n",
      "_________________________________________________________________\n",
      "Layer (type)                 Output Shape              Param #   \n",
      "=================================================================\n",
      "conv2d_3 (Conv2D)            (None, 14, 14, 16)        160       \n",
      "_________________________________________________________________\n",
      "max_pooling2d_2 (MaxPooling2 (None, 4, 4, 16)          0         \n",
      "_________________________________________________________________\n",
      "flatten_4 (Flatten)          (None, 256)               0         \n",
      "_________________________________________________________________\n",
      "dense_7 (Dense)              (None, 10)                2570      \n",
      "=================================================================\n",
      "Total params: 2,730\n",
      "Trainable params: 2,730\n",
      "Non-trainable params: 0\n",
      "_________________________________________________________________\n"
     ]
    }
   ],
   "source": [
    "# Print the model summary\n",
    "\n",
    "model.summary()"
   ]
  },
  {
   "cell_type": "code",
   "execution_count": 17,
   "metadata": {},
   "outputs": [],
   "source": [
    "# Build the Sequential convolutional neural network model\n",
    "\n",
    "model = Sequential([\n",
    "    Conv2D(16, (3,3), activation='relu', input_shape=(28,28,1), data_format='channels_last'),\n",
    "    MaxPooling2D((3,3)),\n",
    "    Flatten(),\n",
    "    Dense(10, activation='softmax')\n",
    "])"
   ]
  },
  {
   "cell_type": "code",
   "execution_count": 18,
   "metadata": {
    "scrolled": false
   },
   "outputs": [
    {
     "name": "stdout",
     "output_type": "stream",
     "text": [
      "Model: \"sequential_6\"\n",
      "_________________________________________________________________\n",
      "Layer (type)                 Output Shape              Param #   \n",
      "=================================================================\n",
      "conv2d_4 (Conv2D)            (None, 26, 26, 16)        160       \n",
      "_________________________________________________________________\n",
      "max_pooling2d_3 (MaxPooling2 (None, 8, 8, 16)          0         \n",
      "_________________________________________________________________\n",
      "flatten_5 (Flatten)          (None, 1024)              0         \n",
      "_________________________________________________________________\n",
      "dense_8 (Dense)              (None, 10)                10250     \n",
      "=================================================================\n",
      "Total params: 10,410\n",
      "Trainable params: 10,410\n",
      "Non-trainable params: 0\n",
      "_________________________________________________________________\n"
     ]
    }
   ],
   "source": [
    "# Print the model summary\n",
    "\n",
    "model.summary()"
   ]
  },
  {
   "cell_type": "code",
   "execution_count": 19,
   "metadata": {},
   "outputs": [],
   "source": [
    "# Build the Sequential convolutional neural network model\n",
    "\n",
    "model = Sequential([\n",
    "    Conv2D(16, (3,3), activation='relu', input_shape=(1,28,28), data_format='channels_first'),\n",
    "    MaxPooling2D((3,3), data_format='channels_first'),\n",
    "    Flatten(),\n",
    "    Dense(10, activation='softmax')\n",
    "])"
   ]
  },
  {
   "cell_type": "code",
   "execution_count": 20,
   "metadata": {
    "scrolled": false
   },
   "outputs": [
    {
     "name": "stdout",
     "output_type": "stream",
     "text": [
      "Model: \"sequential_7\"\n",
      "_________________________________________________________________\n",
      "Layer (type)                 Output Shape              Param #   \n",
      "=================================================================\n",
      "conv2d_5 (Conv2D)            (None, 16, 26, 26)        160       \n",
      "_________________________________________________________________\n",
      "max_pooling2d_4 (MaxPooling2 (None, 16, 8, 8)          0         \n",
      "_________________________________________________________________\n",
      "flatten_6 (Flatten)          (None, 1024)              0         \n",
      "_________________________________________________________________\n",
      "dense_9 (Dense)              (None, 10)                10250     \n",
      "=================================================================\n",
      "Total params: 10,410\n",
      "Trainable params: 10,410\n",
      "Non-trainable params: 0\n",
      "_________________________________________________________________\n"
     ]
    }
   ],
   "source": [
    "# Print the model summary\n",
    "\n",
    "model.summary()"
   ]
  },
  {
   "cell_type": "markdown",
   "metadata": {},
   "source": [
    "***\n",
    "<a id=\"coding_tutorial_3\"></a>\n",
    "## The compile method"
   ]
  },
  {
   "cell_type": "markdown",
   "metadata": {},
   "source": [
    "#### Compile the model"
   ]
  },
  {
   "cell_type": "code",
   "execution_count": 21,
   "metadata": {},
   "outputs": [],
   "source": [
    "# Define the model optimizer, loss function and metrics\n",
    "\n",
    "model.compile(optimizer='adam',\n",
    "             loss='sparse_categorical_crossentropy',\n",
    "             metrics=['accuracy'])"
   ]
  },
  {
   "cell_type": "code",
   "execution_count": 22,
   "metadata": {},
   "outputs": [
    {
     "name": "stdout",
     "output_type": "stream",
     "text": [
      "sparse_categorical_crossentropy\n",
      "<tensorflow.python.keras.optimizer_v2.adam.Adam object at 0x7faa1c5785f8>\n",
      "[<tensorflow.python.keras.metrics.MeanMetricWrapper object at 0x7faa20013160>]\n"
     ]
    }
   ],
   "source": [
    "# Print the resulting model attributes\n",
    "\n",
    "print(model.loss)\n",
    "print(model.optimizer)\n",
    "print(model.metrics)"
   ]
  },
  {
   "cell_type": "code",
   "execution_count": 23,
   "metadata": {},
   "outputs": [],
   "source": [
    "# Define the model optimizer, loss function and metrics\n",
    "\n",
    "model.compile(optimizer='adam',\n",
    "             loss='categorical_crossentropy',\n",
    "             metrics=['accuracy'])"
   ]
  },
  {
   "cell_type": "code",
   "execution_count": 24,
   "metadata": {},
   "outputs": [
    {
     "name": "stdout",
     "output_type": "stream",
     "text": [
      "categorical_crossentropy\n",
      "<tensorflow.python.keras.optimizer_v2.adam.Adam object at 0x7faa1c5e8dd8>\n",
      "[<tensorflow.python.keras.metrics.MeanMetricWrapper object at 0x7faa1c4b4c88>]\n"
     ]
    }
   ],
   "source": [
    "# Print the resulting model attributes\n",
    "\n",
    "print(model.loss)\n",
    "print(model.optimizer)\n",
    "print(model.metrics)"
   ]
  },
  {
   "cell_type": "code",
   "execution_count": 25,
   "metadata": {},
   "outputs": [],
   "source": [
    "# Define the model optimizer, loss function and metrics\n",
    "\n",
    "model.compile(optimizer='sgd',\n",
    "             loss='categorical_crossentropy',\n",
    "             metrics=['accuracy'])"
   ]
  },
  {
   "cell_type": "code",
   "execution_count": 26,
   "metadata": {},
   "outputs": [
    {
     "name": "stdout",
     "output_type": "stream",
     "text": [
      "categorical_crossentropy\n",
      "<tensorflow.python.keras.optimizer_v2.gradient_descent.SGD object at 0x7faa1c39e9e8>\n",
      "[<tensorflow.python.keras.metrics.MeanMetricWrapper object at 0x7faa1c39eb00>]\n"
     ]
    }
   ],
   "source": [
    "# Print the resulting model attributes\n",
    "\n",
    "print(model.loss)\n",
    "print(model.optimizer)\n",
    "print(model.metrics)"
   ]
  },
  {
   "cell_type": "code",
   "execution_count": 27,
   "metadata": {},
   "outputs": [],
   "source": [
    "# Define the model optimizer, loss function and metrics\n",
    "\n",
    "model.compile(optimizer='sgd',\n",
    "             loss='categorical_crossentropy',\n",
    "             metrics=['accuracy', 'mae'])"
   ]
  },
  {
   "cell_type": "code",
   "execution_count": 28,
   "metadata": {},
   "outputs": [
    {
     "name": "stdout",
     "output_type": "stream",
     "text": [
      "categorical_crossentropy\n",
      "<tensorflow.python.keras.optimizer_v2.gradient_descent.SGD object at 0x7faa1c3195f8>\n",
      "[<tensorflow.python.keras.metrics.MeanMetricWrapper object at 0x7faa1c3196a0>, <tensorflow.python.keras.metrics.MeanMetricWrapper object at 0x7faa1c2f63c8>]\n"
     ]
    }
   ],
   "source": [
    "# Print the resulting model attributes\n",
    "\n",
    "print(model.loss)\n",
    "print(model.optimizer)\n",
    "print(model.metrics)"
   ]
  },
  {
   "cell_type": "code",
   "execution_count": 29,
   "metadata": {},
   "outputs": [],
   "source": [
    "# Define the model optimizer, loss function and metrics\n",
    "\n",
    "opt = tf.keras.optimizers.Adam(learning_rate=0.005)\n",
    "\n",
    "model.compile(optimizer=opt,\n",
    "             loss='categorical_crossentropy',\n",
    "             metrics=['accuracy', 'mae'])"
   ]
  },
  {
   "cell_type": "code",
   "execution_count": 30,
   "metadata": {},
   "outputs": [
    {
     "name": "stdout",
     "output_type": "stream",
     "text": [
      "categorical_crossentropy\n",
      "<tensorflow.python.keras.optimizer_v2.adam.Adam object at 0x7faa1c2aee48>\n",
      "[<tensorflow.python.keras.metrics.MeanMetricWrapper object at 0x7faa1c28bda0>, <tensorflow.python.keras.metrics.MeanMetricWrapper object at 0x7faa1c28b358>]\n",
      "<tf.Variable 'learning_rate:0' shape=() dtype=float32, numpy=0.005>\n"
     ]
    }
   ],
   "source": [
    "# Print the resulting model attributes\n",
    "\n",
    "print(model.loss)\n",
    "print(model.optimizer)\n",
    "print(model.metrics)\n",
    "print(model.optimizer.lr)"
   ]
  },
  {
   "cell_type": "code",
   "execution_count": 31,
   "metadata": {},
   "outputs": [],
   "source": [
    "# Define the model optimizer, loss function and metrics\n",
    "\n",
    "opt = tf.keras.optimizers.Adam(learning_rate=0.005)\n",
    "acc = tf.keras.metrics.SparseCategoricalAccuracy()\n",
    "mae = tf.keras.metrics.MeanAbsoluteError()\n",
    "\n",
    "model.compile(optimizer=opt,\n",
    "             loss='categorical_crossentropy',\n",
    "             metrics=[acc, mae])"
   ]
  },
  {
   "cell_type": "code",
   "execution_count": 32,
   "metadata": {},
   "outputs": [
    {
     "name": "stdout",
     "output_type": "stream",
     "text": [
      "categorical_crossentropy\n",
      "<tensorflow.python.keras.optimizer_v2.adam.Adam object at 0x7faa1c1a7e10>\n",
      "[<tensorflow.python.keras.metrics.SparseCategoricalAccuracy object at 0x7faa1c1a7f60>, <tensorflow.python.keras.metrics.MeanAbsoluteError object at 0x7faa1c14ed68>]\n",
      "<tf.Variable 'learning_rate:0' shape=() dtype=float32, numpy=0.005>\n"
     ]
    }
   ],
   "source": [
    "# Print the resulting model attributes\n",
    "\n",
    "print(model.loss)\n",
    "print(model.optimizer)\n",
    "print(model.metrics)\n",
    "print(model.optimizer.lr)"
   ]
  },
  {
   "cell_type": "markdown",
   "metadata": {},
   "source": [
    "***\n",
    "<a id=\"coding_tutorial_4\"></a>\n",
    "## The fit method"
   ]
  },
  {
   "cell_type": "code",
   "execution_count": 33,
   "metadata": {},
   "outputs": [],
   "source": [
    "from tensorflow.keras.preprocessing import image\n",
    "import matplotlib.pyplot as plt\n",
    "import numpy as np\n",
    "import pandas as pd"
   ]
  },
  {
   "cell_type": "code",
   "execution_count": 35,
   "metadata": {},
   "outputs": [],
   "source": [
    "# Build the Sequential convolutional neural network model\n",
    "\n",
    "model = Sequential([\n",
    "    Conv2D(16, (3,3), activation='relu', input_shape=(28,28,1)),\n",
    "    MaxPooling2D((3,3)),\n",
    "    Flatten(),\n",
    "    Dense(10, activation='softmax')\n",
    "])"
   ]
  },
  {
   "cell_type": "code",
   "execution_count": 37,
   "metadata": {},
   "outputs": [
    {
     "name": "stdout",
     "output_type": "stream",
     "text": [
      "Model: \"sequential_8\"\n",
      "_________________________________________________________________\n",
      "Layer (type)                 Output Shape              Param #   \n",
      "=================================================================\n",
      "conv2d_6 (Conv2D)            (None, 26, 26, 16)        160       \n",
      "_________________________________________________________________\n",
      "max_pooling2d_5 (MaxPooling2 (None, 8, 8, 16)          0         \n",
      "_________________________________________________________________\n",
      "flatten_7 (Flatten)          (None, 1024)              0         \n",
      "_________________________________________________________________\n",
      "dense_10 (Dense)             (None, 10)                10250     \n",
      "=================================================================\n",
      "Total params: 10,410\n",
      "Trainable params: 10,410\n",
      "Non-trainable params: 0\n",
      "_________________________________________________________________\n"
     ]
    }
   ],
   "source": [
    "model.summary()"
   ]
  },
  {
   "cell_type": "code",
   "execution_count": 38,
   "metadata": {},
   "outputs": [],
   "source": [
    "# Define the model optimizer, loss function and metrics\n",
    "\n",
    "opt = tf.keras.optimizers.Adam(learning_rate=0.005)\n",
    "acc = tf.keras.metrics.SparseCategoricalAccuracy()\n",
    "mae = tf.keras.metrics.MeanAbsoluteError()\n",
    "\n",
    "model.compile(optimizer=opt,\n",
    "             loss='sparse_categorical_crossentropy',\n",
    "             metrics=[acc, mae])"
   ]
  },
  {
   "cell_type": "code",
   "execution_count": 39,
   "metadata": {},
   "outputs": [
    {
     "name": "stdout",
     "output_type": "stream",
     "text": [
      "sparse_categorical_crossentropy\n",
      "<tensorflow.python.keras.optimizer_v2.adam.Adam object at 0x7fa9e4299f60>\n",
      "[<tensorflow.python.keras.metrics.SparseCategoricalAccuracy object at 0x7fa9e4299f98>, <tensorflow.python.keras.metrics.MeanAbsoluteError object at 0x7fa9e4299fd0>]\n",
      "<tf.Variable 'learning_rate:0' shape=() dtype=float32, numpy=0.005>\n"
     ]
    }
   ],
   "source": [
    "# Print the resulting model attributes\n",
    "\n",
    "print(model.loss)\n",
    "print(model.optimizer)\n",
    "print(model.metrics)\n",
    "print(model.optimizer.lr)"
   ]
  },
  {
   "cell_type": "markdown",
   "metadata": {},
   "source": [
    "#### Load the data"
   ]
  },
  {
   "cell_type": "code",
   "execution_count": 40,
   "metadata": {},
   "outputs": [],
   "source": [
    "# Load the Fashion-MNIST dataset\n",
    "\n",
    "fashion_mnist_data = tf.keras.datasets.fashion_mnist\n",
    "(train_images, train_labels), (test_images, test_labels) = fashion_mnist_data.load_data()"
   ]
  },
  {
   "cell_type": "code",
   "execution_count": 41,
   "metadata": {},
   "outputs": [
    {
     "data": {
      "text/plain": [
       "(60000, 28, 28)"
      ]
     },
     "execution_count": 41,
     "metadata": {},
     "output_type": "execute_result"
    }
   ],
   "source": [
    "# Print the shape of the training data\n",
    "\n",
    "train_images.shape"
   ]
  },
  {
   "cell_type": "code",
   "execution_count": 55,
   "metadata": {},
   "outputs": [
    {
     "name": "stdout",
     "output_type": "stream",
     "text": [
      "9\n"
     ]
    }
   ],
   "source": [
    "# Define the labels\n",
    "\n",
    "labels = [\n",
    "    'T-shirt/top',\n",
    "    'Trouser',\n",
    "    'Pullover',\n",
    "    'Dress',\n",
    "    'Coat',\n",
    "    'Sandal',\n",
    "    'Shirt',\n",
    "    'Sneaker',\n",
    "    'Bag',\n",
    "    'Ankle boot'\n",
    "]\n",
    "\n",
    "print(train_labels[0])"
   ]
  },
  {
   "cell_type": "code",
   "execution_count": 56,
   "metadata": {},
   "outputs": [],
   "source": [
    "# Rescale the image values so that they lie in between 0 and 1.\n",
    "\n",
    "train_images = train_images / 255.\n",
    "test_images = test_images / 255."
   ]
  },
  {
   "cell_type": "code",
   "execution_count": 62,
   "metadata": {},
   "outputs": [
    {
     "data": {
      "image/png": "[encoded data removed]",
      "text/plain": [
       "<Figure size 432x288 with 1 Axes>"
      ]
     },
     "metadata": {
      "needs_background": "light"
     },
     "output_type": "display_data"
    },
    {
     "name": "stdout",
     "output_type": "stream",
     "text": [
      "label: Ankle boot\n"
     ]
    }
   ],
   "source": [
    "# Display one of the images\n",
    "\n",
    "i = 0\n",
    "img = train_images[i,:,:]\n",
    "plt.imshow(img)\n",
    "plt.show()\n",
    "print(f\"label: {labels[train_labels[i]]}\")"
   ]
  },
  {
   "cell_type": "markdown",
   "metadata": {},
   "source": [
    "#### Fit the model"
   ]
  },
  {
   "cell_type": "code",
   "execution_count": 67,
   "metadata": {},
   "outputs": [
    {
     "name": "stdout",
     "output_type": "stream",
     "text": [
      "Train on 60000 samples\n",
      "Epoch 1/2\n",
      "60000/60000 [==============================] - 55s 911us/sample - loss: 0.5611 - sparse_categorical_accuracy: 0.8011 - mean_absolute_error: 4.4200\n",
      "Epoch 2/2\n",
      "60000/60000 [==============================] - 52s 862us/sample - loss: 0.3776 - sparse_categorical_accuracy: 0.8678 - mean_absolute_error: 4.4200\n"
     ]
    },
    {
     "data": {
      "text/plain": [
       "<tensorflow.python.keras.callbacks.History at 0x7fa9c06a47b8>"
      ]
     },
     "execution_count": 67,
     "metadata": {},
     "output_type": "execute_result"
    }
   ],
   "source": [
    "# Fit the model\n",
    "\n",
    "model.fit(train_images[...,np.newaxis], train_labels, epochs=2, batch_size=256)"
   ]
  },
  {
   "cell_type": "code",
   "execution_count": 68,
   "metadata": {},
   "outputs": [
    {
     "name": "stdout",
     "output_type": "stream",
     "text": [
      "Train on 60000 samples\n",
      "Epoch 1/2\n",
      "60000/60000 - 51s - loss: 0.3450 - sparse_categorical_accuracy: 0.8776 - mean_absolute_error: 4.4200\n",
      "Epoch 2/2\n",
      "60000/60000 - 51s - loss: 0.3230 - sparse_categorical_accuracy: 0.8854 - mean_absolute_error: 4.4200\n"
     ]
    },
    {
     "data": {
      "text/plain": [
       "<tensorflow.python.keras.callbacks.History at 0x7fa9c014f780>"
      ]
     },
     "execution_count": 68,
     "metadata": {},
     "output_type": "execute_result"
    }
   ],
   "source": [
    "# Fit the model\n",
    "\n",
    "model.fit(train_images[...,np.newaxis], train_labels, epochs=2, batch_size=256, verbose=2) # verbose=0/1/2"
   ]
  },
  {
   "cell_type": "code",
   "execution_count": 69,
   "metadata": {},
   "outputs": [
    {
     "name": "stdout",
     "output_type": "stream",
     "text": [
      "Train on 60000 samples\n",
      "Epoch 1/8\n",
      "60000/60000 - 50s - loss: 0.3092 - sparse_categorical_accuracy: 0.8895 - mean_absolute_error: 4.4200\n",
      "Epoch 2/8\n",
      "60000/60000 - 50s - loss: 0.2966 - sparse_categorical_accuracy: 0.8939 - mean_absolute_error: 4.4200\n",
      "Epoch 3/8\n",
      "60000/60000 - 49s - loss: 0.2915 - sparse_categorical_accuracy: 0.8949 - mean_absolute_error: 4.4200\n",
      "Epoch 4/8\n",
      "60000/60000 - 49s - loss: 0.2814 - sparse_categorical_accuracy: 0.8990 - mean_absolute_error: 4.4200\n",
      "Epoch 5/8\n",
      "60000/60000 - 49s - loss: 0.2811 - sparse_categorical_accuracy: 0.8985 - mean_absolute_error: 4.4200\n",
      "Epoch 6/8\n",
      "60000/60000 - 50s - loss: 0.2718 - sparse_categorical_accuracy: 0.9017 - mean_absolute_error: 4.4200\n",
      "Epoch 7/8\n",
      "60000/60000 - 50s - loss: 0.2698 - sparse_categorical_accuracy: 0.9023 - mean_absolute_error: 4.4200\n",
      "Epoch 8/8\n",
      "60000/60000 - 48s - loss: 0.2630 - sparse_categorical_accuracy: 0.9048 - mean_absolute_error: 4.4200\n"
     ]
    }
   ],
   "source": [
    "# Fit the model\n",
    "\n",
    "history = model.fit(train_images[...,np.newaxis], train_labels, epochs=8, batch_size=256, verbose=2) # verbose=0/1/2"
   ]
  },
  {
   "cell_type": "markdown",
   "metadata": {},
   "source": [
    "#### Plot training history"
   ]
  },
  {
   "cell_type": "code",
   "execution_count": 70,
   "metadata": {},
   "outputs": [
    {
     "data": {
      "text/html": [
       "<div>\n",
       "<style scoped>\n",
       "    .dataframe tbody tr th:only-of-type {\n",
       "        vertical-align: middle;\n",
       "    }\n",
       "\n",
       "    .dataframe tbody tr th {\n",
       "        vertical-align: top;\n",
       "    }\n",
       "\n",
       "    .dataframe thead th {\n",
       "        text-align: right;\n",
       "    }\n",
       "</style>\n",
       "<table border=\"1\" class=\"dataframe\">\n",
       "  <thead>\n",
       "    <tr style=\"text-align: right;\">\n",
       "      <th></th>\n",
       "      <th>loss</th>\n",
       "      <th>sparse_categorical_accuracy</th>\n",
       "      <th>mean_absolute_error</th>\n",
       "    </tr>\n",
       "  </thead>\n",
       "  <tbody>\n",
       "    <tr>\n",
       "      <th>0</th>\n",
       "      <td>0.309217</td>\n",
       "      <td>0.889483</td>\n",
       "      <td>4.419999</td>\n",
       "    </tr>\n",
       "    <tr>\n",
       "      <th>1</th>\n",
       "      <td>0.296640</td>\n",
       "      <td>0.893900</td>\n",
       "      <td>4.420000</td>\n",
       "    </tr>\n",
       "    <tr>\n",
       "      <th>2</th>\n",
       "      <td>0.291470</td>\n",
       "      <td>0.894867</td>\n",
       "      <td>4.419999</td>\n",
       "    </tr>\n",
       "    <tr>\n",
       "      <th>3</th>\n",
       "      <td>0.281361</td>\n",
       "      <td>0.899017</td>\n",
       "      <td>4.420000</td>\n",
       "    </tr>\n",
       "    <tr>\n",
       "      <th>4</th>\n",
       "      <td>0.281079</td>\n",
       "      <td>0.898450</td>\n",
       "      <td>4.420001</td>\n",
       "    </tr>\n",
       "  </tbody>\n",
       "</table>\n",
       "</div>"
      ],
      "text/plain": [
       "       loss  sparse_categorical_accuracy  mean_absolute_error\n",
       "0  0.309217                     0.889483             4.419999\n",
       "1  0.296640                     0.893900             4.420000\n",
       "2  0.291470                     0.894867             4.419999\n",
       "3  0.281361                     0.899017             4.420000\n",
       "4  0.281079                     0.898450             4.420001"
      ]
     },
     "execution_count": 70,
     "metadata": {},
     "output_type": "execute_result"
    }
   ],
   "source": [
    "# Load the history into a pandas Dataframe\n",
    "\n",
    "df = pd.DataFrame(history.history)\n",
    "df.head()"
   ]
  },
  {
   "cell_type": "code",
   "execution_count": 72,
   "metadata": {},
   "outputs": [
    {
     "data": {
      "text/plain": [
       "[Text(0, 0.5, 'Loss'), Text(0.5, 0, 'Epochs')]"
      ]
     },
     "execution_count": 72,
     "metadata": {},
     "output_type": "execute_result"
    },
    {
     "data": {
      "image/png": "[encoded data removed]",
      "text/plain": [
       "<Figure size 432x288 with 1 Axes>"
      ]
     },
     "metadata": {
      "needs_background": "light"
     },
     "output_type": "display_data"
    }
   ],
   "source": [
    "# Make a plot for the loss\n",
    "\n",
    "loss_plot = df.plot(y='loss', title='Loss vs. Epochs', legend=False)\n",
    "loss_plot.set(xlabel='Epochs', ylabel='Loss')"
   ]
  },
  {
   "cell_type": "code",
   "execution_count": 75,
   "metadata": {},
   "outputs": [
    {
     "data": {
      "text/plain": [
       "[Text(0, 0.5, 'Sparse Categorical Accuracy'), Text(0.5, 0, 'Epochs')]"
      ]
     },
     "execution_count": 75,
     "metadata": {},
     "output_type": "execute_result"
    },
    {
     "data": {
      "image/png": "[encoded data removed]",
      "text/plain": [
       "<Figure size 432x288 with 1 Axes>"
      ]
     },
     "metadata": {
      "needs_background": "light"
     },
     "output_type": "display_data"
    }
   ],
   "source": [
    "# Make a plot for the accuracy\n",
    "\n",
    "accuracy_plot = df.plot(y='sparse_categorical_accuracy', title='Sparse Categorical Accuracy vs. Epochs', legend=False)\n",
    "accuracy_plot.set(xlabel='Epochs', ylabel='Sparse Categorical Accuracy')"
   ]
  },
  {
   "cell_type": "code",
   "execution_count": 76,
   "metadata": {},
   "outputs": [
    {
     "data": {
      "text/plain": [
       "[Text(0, 0.5, 'Mean Absolute Error'), Text(0.5, 0, 'Epochs')]"
      ]
     },
     "execution_count": 76,
     "metadata": {},
     "output_type": "execute_result"
    },
    {
     "data": {
      "image/png": "[encoded data removed]",
      "text/plain": [
       "<Figure size 432x288 with 1 Axes>"
      ]
     },
     "metadata": {
      "needs_background": "light"
     },
     "output_type": "display_data"
    }
   ],
   "source": [
    "# Make a plot for the additional metric\n",
    "\n",
    "metric_plot = df.plot(y='mean_absolute_error', title='Mean Absolute Error vs. Epochs', legend=False)\n",
    "metric_plot.set(xlabel='Epochs', ylabel='Mean Absolute Error')"
   ]
  },
  {
   "cell_type": "markdown",
   "metadata": {},
   "source": [
    "***\n",
    "<a id=\"coding_tutorial_5\"></a>\n",
    "## The evaluate and predict methods"
   ]
  },
  {
   "cell_type": "code",
   "execution_count": 77,
   "metadata": {},
   "outputs": [],
   "source": [
    "import matplotlib.pyplot as plt\n",
    "import numpy as np"
   ]
  },
  {
   "cell_type": "markdown",
   "metadata": {},
   "source": [
    "#### Evaluate the model on the test set"
   ]
  },
  {
   "cell_type": "code",
   "execution_count": 78,
   "metadata": {
    "scrolled": true
   },
   "outputs": [
    {
     "name": "stdout",
     "output_type": "stream",
     "text": [
      "10000/1 - 5s - loss: 0.4465 - sparse_categorical_accuracy: 0.8867 - mean_absolute_error: 4.4200\n"
     ]
    },
    {
     "data": {
      "text/plain": [
       "[0.31449664208889005, 0.8867, 4.419997]"
      ]
     },
     "execution_count": 78,
     "metadata": {},
     "output_type": "execute_result"
    }
   ],
   "source": [
    "# Evaluate the model\n",
    "\n",
    "model.evaluate(test_images[..., np.newaxis], test_labels, verbose=2)"
   ]
  },
  {
   "cell_type": "code",
   "execution_count": 79,
   "metadata": {
    "scrolled": true
   },
   "outputs": [
    {
     "name": "stdout",
     "output_type": "stream",
     "text": [
      "10000/1 - 5s - loss: 0.4465 - sparse_categorical_accuracy: 0.8867 - mean_absolute_error: 4.4200\n"
     ]
    }
   ],
   "source": [
    "# Evaluate the model\n",
    "\n",
    "test_loss, test_accuracy, test_mae = model.evaluate(test_images[..., np.newaxis], test_labels, verbose=2)"
   ]
  },
  {
   "cell_type": "code",
   "execution_count": 80,
   "metadata": {},
   "outputs": [
    {
     "data": {
      "text/plain": [
       "0.31449664208889005"
      ]
     },
     "execution_count": 80,
     "metadata": {},
     "output_type": "execute_result"
    }
   ],
   "source": [
    "test_loss"
   ]
  },
  {
   "cell_type": "code",
   "execution_count": 82,
   "metadata": {},
   "outputs": [
    {
     "data": {
      "text/plain": [
       "0.8867"
      ]
     },
     "execution_count": 82,
     "metadata": {},
     "output_type": "execute_result"
    }
   ],
   "source": [
    "test_accuracy"
   ]
  },
  {
   "cell_type": "code",
   "execution_count": 83,
   "metadata": {},
   "outputs": [
    {
     "data": {
      "text/plain": [
       "4.419997"
      ]
     },
     "execution_count": 83,
     "metadata": {},
     "output_type": "execute_result"
    }
   ],
   "source": [
    "test_mae"
   ]
  },
  {
   "cell_type": "markdown",
   "metadata": {},
   "source": [
    "#### Make predictions from the model"
   ]
  },
  {
   "cell_type": "code",
   "execution_count": 88,
   "metadata": {},
   "outputs": [
    {
     "data": {
      "image/png": "[encoded data removed]",
      "text/plain": [
       "<Figure size 432x288 with 1 Axes>"
      ]
     },
     "metadata": {
      "needs_background": "light"
     },
     "output_type": "display_data"
    },
    {
     "name": "stdout",
     "output_type": "stream",
     "text": [
      "Label: Pullover\n"
     ]
    }
   ],
   "source": [
    "# Choose a random test image\n",
    "\n",
    "random_inx = np.random.choice(test_images.shape[0])\n",
    "\n",
    "test_image = test_images[random_inx]\n",
    "plt.imshow(test_image)\n",
    "plt.show()\n",
    "print(f\"Label: {labels[test_labels[random_inx]]}\")"
   ]
  },
  {
   "cell_type": "code",
   "execution_count": 89,
   "metadata": {},
   "outputs": [
    {
     "data": {
      "image/png": "[encoded data removed]",
      "text/plain": [
       "<Figure size 432x288 with 1 Axes>"
      ]
     },
     "metadata": {
      "needs_background": "light"
     },
     "output_type": "display_data"
    },
    {
     "name": "stdout",
     "output_type": "stream",
     "text": [
      "Label: Bag\n"
     ]
    }
   ],
   "source": [
    "# Choose a random test image\n",
    "\n",
    "random_inx = np.random.choice(test_images.shape[0])\n",
    "inx = 30\n",
    "\n",
    "test_image = test_images[inx]\n",
    "plt.imshow(test_image)\n",
    "plt.show()\n",
    "print(f\"Label: {labels[test_labels[inx]]}\")"
   ]
  },
  {
   "cell_type": "code",
   "execution_count": 97,
   "metadata": {},
   "outputs": [
    {
     "data": {
      "text/plain": [
       "array([[3.9636034e-11, 4.9915292e-15, 5.7970056e-11, 7.4160567e-10,\n",
       "        9.6248759e-11, 1.5830420e-12, 2.2048587e-10, 1.9606125e-13,\n",
       "        1.0000000e+00, 1.5500398e-14]], dtype=float32)"
      ]
     },
     "execution_count": 97,
     "metadata": {},
     "output_type": "execute_result"
    }
   ],
   "source": [
    "# Get the model predictions\n",
    "\n",
    "predictions = model.predict(test_image[np.newaxis,...,np.newaxis])\n",
    "predictions"
   ]
  },
  {
   "cell_type": "code",
   "execution_count": 100,
   "metadata": {},
   "outputs": [
    {
     "data": {
      "text/plain": [
       "8"
      ]
     },
     "execution_count": 100,
     "metadata": {},
     "output_type": "execute_result"
    }
   ],
   "source": [
    "amax = np.argmax(predictions)\n",
    "amax"
   ]
  },
  {
   "cell_type": "code",
   "execution_count": 101,
   "metadata": {},
   "outputs": [
    {
     "name": "stdout",
     "output_type": "stream",
     "text": [
      "Model prediction: Bag\n"
     ]
    }
   ],
   "source": [
    "print(f\"Model prediction: {labels[maxa]}\")"
   ]
  }
 ],
 "metadata": {
  "kernelspec": {
   "display_name": "Python 3",
   "language": "python",
   "name": "python3"
  },
  "language_info": {
   "codemirror_mode": {
    "name": "ipython",
    "version": 3
   },
   "file_extension": ".py",
   "mimetype": "text/x-python",
   "name": "python",
   "nbconvert_exporter": "python",
   "pygments_lexer": "ipython3",
   "version": "3.7.1"
  }
 },
 "nbformat": 4,
 "nbformat_minor": 2
}
